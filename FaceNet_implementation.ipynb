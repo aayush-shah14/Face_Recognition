{
  "nbformat": 4,
  "nbformat_minor": 0,
  "metadata": {
    "colab": {
      "name": "FaceNet implementation.ipynb",
      "provenance": [],
      "collapsed_sections": []
    },
    "kernelspec": {
      "name": "python3",
      "display_name": "Python 3"
    },
    "language_info": {
      "name": "python"
    }
  },
  "cells": [
    {
      "cell_type": "markdown",
      "metadata": {
        "id": "D0PI51e52u7N"
      },
      "source": [
        "## Installing and Importing"
      ]
    },
    {
      "cell_type": "code",
      "metadata": {
        "colab": {
          "base_uri": "https://localhost:8080/"
        },
        "id": "CB9EuqrwGxXo",
        "outputId": "8933a57d-cebe-495f-f9db-d089651db650"
      },
      "source": [
        "!pip install tensorflow-addons"
      ],
      "execution_count": null,
      "outputs": [
        {
          "output_type": "stream",
          "text": [
            "Collecting tensorflow-addons\n",
            "\u001b[?25l  Downloading https://files.pythonhosted.org/packages/74/e3/56d2fe76f0bb7c88ed9b2a6a557e25e83e252aec08f13de34369cd850a0b/tensorflow_addons-0.12.1-cp37-cp37m-manylinux2010_x86_64.whl (703kB)\n",
            "\u001b[K     |████████████████████████████████| 706kB 4.1MB/s \n",
            "\u001b[?25hRequirement already satisfied: typeguard>=2.7 in /usr/local/lib/python3.7/dist-packages (from tensorflow-addons) (2.7.1)\n",
            "Installing collected packages: tensorflow-addons\n",
            "Successfully installed tensorflow-addons-0.12.1\n"
          ],
          "name": "stdout"
        }
      ]
    },
    {
      "cell_type": "code",
      "metadata": {
        "colab": {
          "base_uri": "https://localhost:8080/"
        },
        "id": "zBDxTlAder2_",
        "outputId": "d98744ae-e35b-4988-d50e-128640593f12"
      },
      "source": [
        "from google.colab import drive\n",
        "drive.mount('/content/gdrive')"
      ],
      "execution_count": null,
      "outputs": [
        {
          "output_type": "stream",
          "text": [
            "Mounted at /content/gdrive\n"
          ],
          "name": "stdout"
        }
      ]
    },
    {
      "cell_type": "code",
      "metadata": {
        "id": "6g0so64Ab-MJ"
      },
      "source": [
        "import tensorflow as tf\n",
        "import tensorflow_addons as tfa\n",
        "import numpy as np \n",
        "import os\n",
        "import pandas as pd\n",
        "import cv2"
      ],
      "execution_count": null,
      "outputs": []
    },
    {
      "cell_type": "markdown",
      "metadata": {
        "id": "-2_kCA_C1kTM"
      },
      "source": [
        "## Loading the Dataset\n"
      ]
    },
    {
      "cell_type": "code",
      "metadata": {
        "id": "txJpveILitgN",
        "colab": {
          "base_uri": "https://localhost:8080/"
        },
        "outputId": "7010dc35-3184-4fe9-f682-5a45f956b77b"
      },
      "source": [
        "data_train = list()\n",
        "data_val   = list()\n",
        "data_test  = list()\n",
        "\n",
        "for subject in os.listdir('gdrive/MyDrive/Database 2'):\n",
        "  for subfolder in os.listdir(os.path.join('gdrive/MyDrive/Database 2/',subject)):\n",
        "    path = os.path.join('gdrive/MyDrive/Database 2/',subject, subfolder)\n",
        "    a = 0\n",
        "    for image in os.listdir(path):\n",
        "      img = cv2.imread(os.path.join(path,image),cv2.IMREAD_COLOR)\n",
        "      img = cv2.resize(img,(220,220))\n",
        "      ## train:70, val:20, test:10\n",
        "      if a%10<=6:\n",
        "        data_train.append([img,subject])\n",
        "      elif a%10<=8:\n",
        "        data_val.append([img,subject])\n",
        "      elif a%10==9:\n",
        "        data_test.append([img,subject])\n",
        "        \n",
        "      a+=1\n",
        "\n",
        "np_data_train = np.array(data_train)\n",
        "np_data_val = np.array(data_val)\n",
        "np_data_test = np.array(data_test)"
      ],
      "execution_count": null,
      "outputs": [
        {
          "output_type": "stream",
          "text": [
            "/usr/local/lib/python3.7/dist-packages/ipykernel_launcher.py:22: VisibleDeprecationWarning: Creating an ndarray from ragged nested sequences (which is a list-or-tuple of lists-or-tuples-or ndarrays with different lengths or shapes) is deprecated. If you meant to do this, you must specify 'dtype=object' when creating the ndarray\n",
            "/usr/local/lib/python3.7/dist-packages/ipykernel_launcher.py:23: VisibleDeprecationWarning: Creating an ndarray from ragged nested sequences (which is a list-or-tuple of lists-or-tuples-or ndarrays with different lengths or shapes) is deprecated. If you meant to do this, you must specify 'dtype=object' when creating the ndarray\n",
            "/usr/local/lib/python3.7/dist-packages/ipykernel_launcher.py:24: VisibleDeprecationWarning: Creating an ndarray from ragged nested sequences (which is a list-or-tuple of lists-or-tuples-or ndarrays with different lengths or shapes) is deprecated. If you meant to do this, you must specify 'dtype=object' when creating the ndarray\n"
          ],
          "name": "stderr"
        }
      ]
    },
    {
      "cell_type": "code",
      "metadata": {
        "colab": {
          "base_uri": "https://localhost:8080/",
          "height": 35
        },
        "id": "VIh5x6JlGPlx",
        "outputId": "f83e3e26-a2d4-4a8b-af28-9e84cc45f200"
      },
      "source": [
        "np_data_train[0][1]"
      ],
      "execution_count": null,
      "outputs": [
        {
          "output_type": "execute_result",
          "data": {
            "application/vnd.google.colaboratory.intrinsic+json": {
              "type": "string"
            },
            "text/plain": [
              "'Aaron_Eckhart'"
            ]
          },
          "metadata": {
            "tags": []
          },
          "execution_count": 5
        }
      ]
    },
    {
      "cell_type": "code",
      "metadata": {
        "id": "NkHkkclIEfHG"
      },
      "source": [
        "## shuffling the dataset\n",
        "\n",
        "np.random.shuffle(np_data_train)\n",
        "np.random.shuffle(np_data_val)\n",
        "np.random.shuffle(np_data_test)\n",
        "\n",
        "# now the data is shuffled\n",
        "\n",
        "x_train = []\n",
        "y_train = []\n",
        "for img, subject in np_data_train:\n",
        "  x_train.append(img)\n",
        "  y_train.append(subject)\n",
        "x_train = np.array(x_train)\n",
        "y_train = np.array(y_train)\n",
        "np.savez('x_train.npz',x_train)\n",
        "\n",
        "x_val = []\n",
        "y_val = []\n",
        "for img, subject in np_data_val:\n",
        "  x_val.append(img)\n",
        "  y_val.append(subject)\n",
        "x_val = np.array(x_val)\n",
        "y_val = np.array(y_val)\n",
        "np.savez('x_val.npz',x_val)\n",
        "\n",
        "x_test = []\n",
        "y_test = []\n",
        "for img, subject in np_data_test:\n",
        "  x_test.append(img)\n",
        "  y_test.append(subject)\n",
        "x_test = np.array(x_test)\n",
        "y_test = np.array(y_test)\n",
        "np.savez('x_test.npz',x_test)\n"
      ],
      "execution_count": null,
      "outputs": []
    },
    {
      "cell_type": "code",
      "metadata": {
        "colab": {
          "base_uri": "https://localhost:8080/"
        },
        "id": "-NZ5q2b9g90N",
        "outputId": "482d66fc-a584-462f-ca45-7476cae7d177"
      },
      "source": [
        "print(img.shape)"
      ],
      "execution_count": null,
      "outputs": [
        {
          "output_type": "stream",
          "text": [
            "(220, 220, 3)\n"
          ],
          "name": "stdout"
        }
      ]
    },
    {
      "cell_type": "code",
      "metadata": {
        "id": "G6ouChsxRhKc",
        "colab": {
          "base_uri": "https://localhost:8080/"
        },
        "outputId": "a9bbf7f6-b02a-49ab-bbc5-2a057c5ccd47"
      },
      "source": [
        "x_train.shape"
      ],
      "execution_count": null,
      "outputs": [
        {
          "output_type": "execute_result",
          "data": {
            "text/plain": [
              "(748, 220, 220, 3)"
            ]
          },
          "metadata": {
            "tags": []
          },
          "execution_count": 9
        }
      ]
    },
    {
      "cell_type": "code",
      "metadata": {
        "colab": {
          "base_uri": "https://localhost:8080/"
        },
        "id": "kRy6LWn7Vyti",
        "outputId": "bdfc03ab-076e-4c26-de75-e6f778289d92"
      },
      "source": [
        "## Encoding the subjects to integer labels\n",
        "\n",
        "people_mapping = {'Aaron_Eckhart': 0,\n",
        "                   'Aaron_Guiel': 3,\n",
        "                   'Aaron_Sorkin': 1,\n",
        "                   'Aaron_Tippin': 4,\n",
        "                   'Abba_Eban': 2\n",
        "                  }\n",
        "\n",
        "y_train_int = np.array([people_mapping[value] for value in y_train])\n",
        "y_val_int   = np.array([people_mapping[value] for value in y_val])\n",
        "y_test_int  = np.array([people_mapping[value] for value in y_test])\n",
        "\n",
        "np.savez('y_train_int.npz',y_train_int)\n",
        "np.savez('y_val_int.npz',y_val_int)\n",
        "np.savez('y_test_int.npz',y_test_int)\n",
        "\n",
        "\n",
        "# y_train_int\n",
        "# y_val_int\n",
        "y_test_int"
      ],
      "execution_count": null,
      "outputs": [
        {
          "output_type": "execute_result",
          "data": {
            "text/plain": [
              "array([4, 0, 3, 2, 3, 4, 2, 3, 1, 2, 0, 3, 0, 4, 4, 4, 2, 4, 4, 1, 4, 2,\n",
              "       2, 0, 1, 1, 2, 3, 4, 1, 2, 2, 3, 4, 2, 1, 3, 0, 4, 3, 2, 2, 4, 0,\n",
              "       0, 2, 4, 3, 2, 1, 0, 2, 1, 0, 1, 4, 1, 2, 3, 0, 4, 0, 0, 2, 0, 2,\n",
              "       4, 2, 1, 4, 0, 3, 1, 2, 1, 1, 2, 3, 1, 1, 1, 1, 1, 1, 1, 2, 0, 1,\n",
              "       2, 2, 0, 1, 4, 2, 2, 3, 2, 0, 1, 4])"
            ]
          },
          "metadata": {
            "tags": []
          },
          "execution_count": 7
        }
      ]
    },
    {
      "cell_type": "code",
      "metadata": {
        "colab": {
          "base_uri": "https://localhost:8080/"
        },
        "id": "-VoYqiV4ACjs",
        "outputId": "93eafcb0-b4fa-4e4c-aab3-862f0f4d1d14"
      },
      "source": [
        "people_mapping"
      ],
      "execution_count": null,
      "outputs": [
        {
          "output_type": "execute_result",
          "data": {
            "text/plain": [
              "{'Aaron_Eckhart': 0,\n",
              " 'Aaron_Guiel': 3,\n",
              " 'Aaron_Sorkin': 1,\n",
              " 'Aaron_Tippin': 4,\n",
              " 'Abba_Eban': 2}"
            ]
          },
          "metadata": {
            "tags": []
          },
          "execution_count": 8
        }
      ]
    },
    {
      "cell_type": "markdown",
      "metadata": {
        "id": "9WmGGrthPtQf"
      },
      "source": [
        "## Model for Embeddings"
      ]
    },
    {
      "cell_type": "code",
      "metadata": {
        "id": "VReppRhGsMqI"
      },
      "source": [
        "model = tf.keras.models.Sequential([\n",
        "                                     \n",
        "  tf.keras.layers.Conv2D(input_shape=(220,220,3), filters=64, kernel_size=(7,7), strides=(2,2), padding='same',activation='relu'),   # conv1\n",
        "  tf.keras.layers.MaxPool2D(pool_size=(3,3), strides=(2,2), padding='same'),                                                         # pool1\n",
        "  tf.keras.layers.BatchNormalization(),                                                                                              # rnorm1\n",
        "  tf.keras.layers.Conv2D(filters=64, kernel_size=(1,1), strides=(1,1), padding='same',activation='relu'),  # conv2a\n",
        "  tf.keras.layers.Conv2D(filters=192, kernel_size=(3,3), strides=(1,1), padding='same',activation='relu'), # conv2\n",
        "  tf.keras.layers.BatchNormalization(),                                                                    # rnorm2\n",
        "  tf.keras.layers.MaxPool2D(pool_size=(3,3), strides=(2,2), padding='same'),                               # pool2\n",
        "  tf.keras.layers.Conv2D(filters=192, kernel_size=(1,1), strides=(1,1), padding='same',activation='relu'), # conv3a\n",
        "  tf.keras.layers.Conv2D(filters=192, kernel_size=(3,3), strides=(1,1), padding='same',activation='relu'), # conv3\n",
        "  tf.keras.layers.MaxPool2D(pool_size=(3,3), strides=(2,2), padding='same'),                               # pool3\n",
        "  tf.keras.layers.Conv2D(filters=384, kernel_size=(1,1), strides=(1,1), padding='same',activation='relu'), # conv4a\n",
        "  tf.keras.layers.Conv2D(filters=256, kernel_size=(3,3), strides=(1,1), padding='same',activation='relu'), # conv4\n",
        "  tf.keras.layers.Conv2D(filters=256, kernel_size=(1,1), strides=(1,1), padding='same',activation='relu'), # conv5a\n",
        "  tf.keras.layers.Conv2D(filters=256, kernel_size=(3,3), strides=(1,1), padding='same',activation='relu'), # conv5\n",
        "  tf.keras.layers.Conv2D(filters=256, kernel_size=(1,1), strides=(1,1), padding='same',activation='relu'), # conv6a\n",
        "  tf.keras.layers.Conv2D(filters=256, kernel_size=(3,3), strides=(1,1), padding='same',activation='relu'), # conv6\n",
        "  tf.keras.layers.MaxPool2D(pool_size=(3,3), strides=(2,2), padding='same'),                               # pool4\n",
        "  tf.keras.layers.Flatten(),\n",
        "  tf.keras.layers.Dense(128,activation=None),\n",
        "  tf.keras.layers.Lambda(lambda x: tf.math.l2_normalize(x, axis=1)) # L2 normalize embeddings\n",
        "\n",
        "])\n"
      ],
      "execution_count": null,
      "outputs": []
    },
    {
      "cell_type": "code",
      "metadata": {
        "id": "d1VV23MasbT2"
      },
      "source": [
        "model.compile(optimizer=tf.keras.optimizers.Adam(0.001), loss=tfa.losses.TripletSemiHardLoss(), metrics=['accuracy'])"
      ],
      "execution_count": null,
      "outputs": []
    },
    {
      "cell_type": "code",
      "metadata": {
        "colab": {
          "base_uri": "https://localhost:8080/"
        },
        "id": "wrTUeArxd2wC",
        "outputId": "fe6c4f75-c072-4f0a-dd27-8643974b04de"
      },
      "source": [
        "model.summary()"
      ],
      "execution_count": null,
      "outputs": [
        {
          "output_type": "stream",
          "text": [
            "Model: \"sequential_3\"\n",
            "_________________________________________________________________\n",
            "Layer (type)                 Output Shape              Param #   \n",
            "=================================================================\n",
            "conv2d_22 (Conv2D)           (None, 110, 110, 64)      9472      \n",
            "_________________________________________________________________\n",
            "max_pooling2d_8 (MaxPooling2 (None, 55, 55, 64)        0         \n",
            "_________________________________________________________________\n",
            "batch_normalization_4 (Batch (None, 55, 55, 64)        256       \n",
            "_________________________________________________________________\n",
            "conv2d_23 (Conv2D)           (None, 55, 55, 64)        4160      \n",
            "_________________________________________________________________\n",
            "conv2d_24 (Conv2D)           (None, 55, 55, 192)       110784    \n",
            "_________________________________________________________________\n",
            "batch_normalization_5 (Batch (None, 55, 55, 192)       768       \n",
            "_________________________________________________________________\n",
            "max_pooling2d_9 (MaxPooling2 (None, 28, 28, 192)       0         \n",
            "_________________________________________________________________\n",
            "conv2d_25 (Conv2D)           (None, 28, 28, 192)       37056     \n",
            "_________________________________________________________________\n",
            "conv2d_26 (Conv2D)           (None, 28, 28, 192)       331968    \n",
            "_________________________________________________________________\n",
            "max_pooling2d_10 (MaxPooling (None, 14, 14, 192)       0         \n",
            "_________________________________________________________________\n",
            "conv2d_27 (Conv2D)           (None, 14, 14, 384)       74112     \n",
            "_________________________________________________________________\n",
            "conv2d_28 (Conv2D)           (None, 14, 14, 256)       884992    \n",
            "_________________________________________________________________\n",
            "conv2d_29 (Conv2D)           (None, 14, 14, 256)       65792     \n",
            "_________________________________________________________________\n",
            "conv2d_30 (Conv2D)           (None, 14, 14, 256)       590080    \n",
            "_________________________________________________________________\n",
            "conv2d_31 (Conv2D)           (None, 14, 14, 256)       65792     \n",
            "_________________________________________________________________\n",
            "conv2d_32 (Conv2D)           (None, 14, 14, 256)       590080    \n",
            "_________________________________________________________________\n",
            "max_pooling2d_11 (MaxPooling (None, 7, 7, 256)         0         \n",
            "_________________________________________________________________\n",
            "flatten_2 (Flatten)          (None, 12544)             0         \n",
            "_________________________________________________________________\n",
            "dense_2 (Dense)              (None, 128)               1605760   \n",
            "_________________________________________________________________\n",
            "lambda_2 (Lambda)            (None, 128)               0         \n",
            "=================================================================\n",
            "Total params: 4,371,072\n",
            "Trainable params: 4,370,560\n",
            "Non-trainable params: 512\n",
            "_________________________________________________________________\n"
          ],
          "name": "stdout"
        }
      ]
    },
    {
      "cell_type": "markdown",
      "metadata": {
        "id": "UU8_7IGCPwJn"
      },
      "source": [
        "## Training Model1"
      ]
    },
    {
      "cell_type": "code",
      "metadata": {
        "id": "6Z1TSgDvGoKH",
        "colab": {
          "base_uri": "https://localhost:8080/"
        },
        "outputId": "c90d7431-732c-4938-dfed-4fdc079ef2bb"
      },
      "source": [
        "model.fit(\n",
        "    x = x_train,\n",
        "    y = y_train_int,\n",
        "    batch_size = 10,\n",
        "    epochs = 5,\n",
        "    verbose = 1,\n",
        "    validation_data = (x_val, y_val_int),\n",
        "    shuffle = True, # doesn't matter if we have only one epoch or no batches,\n",
        ")"
      ],
      "execution_count": null,
      "outputs": [
        {
          "output_type": "stream",
          "text": [
            "Epoch 1/5\n",
            "75/75 [==============================] - 146s 2s/step - loss: 0.6671 - accuracy: 0.0394 - val_loss: 0.6908 - val_accuracy: 0.0291\n",
            "Epoch 2/5\n",
            "75/75 [==============================] - 143s 2s/step - loss: 0.3772 - accuracy: 0.0045 - val_loss: 0.5787 - val_accuracy: 0.0000e+00\n",
            "Epoch 3/5\n",
            "75/75 [==============================] - 144s 2s/step - loss: 0.2000 - accuracy: 0.0000e+00 - val_loss: 0.4579 - val_accuracy: 0.0000e+00\n",
            "Epoch 4/5\n",
            "75/75 [==============================] - 143s 2s/step - loss: 0.2028 - accuracy: 0.0000e+00 - val_loss: 0.1895 - val_accuracy: 0.0000e+00\n",
            "Epoch 5/5\n",
            "75/75 [==============================] - 143s 2s/step - loss: 0.1133 - accuracy: 0.0000e+00 - val_loss: 0.4456 - val_accuracy: 0.0049\n"
          ],
          "name": "stdout"
        },
        {
          "output_type": "execute_result",
          "data": {
            "text/plain": [
              "<tensorflow.python.keras.callbacks.History at 0x7f36de84e810>"
            ]
          },
          "metadata": {
            "tags": []
          },
          "execution_count": 35
        }
      ]
    },
    {
      "cell_type": "code",
      "metadata": {
        "colab": {
          "base_uri": "https://localhost:8080/"
        },
        "id": "7ZV0CP1n-dfU",
        "outputId": "57f3e5e1-c163-4a9b-950e-993d765d6fef"
      },
      "source": [
        "model.save('saved_model/embeddings_nn')"
      ],
      "execution_count": null,
      "outputs": [
        {
          "output_type": "stream",
          "text": [
            "INFO:tensorflow:Assets written to: saved_model/embeddings_nn/assets\n"
          ],
          "name": "stdout"
        }
      ]
    },
    {
      "cell_type": "code",
      "metadata": {
        "id": "T7LXWxuA_TQz"
      },
      "source": [
        "!pip install -q pyyaml h5py"
      ],
      "execution_count": null,
      "outputs": []
    },
    {
      "cell_type": "code",
      "metadata": {
        "id": "WKItthTDBLaU"
      },
      "source": [
        "## saving weights\n",
        "model.save_weights('embeddings_nn_weights.h5')"
      ],
      "execution_count": null,
      "outputs": []
    },
    {
      "cell_type": "markdown",
      "metadata": {
        "id": "I1dxN-PnPkT8"
      },
      "source": [
        "## Run the code from here (second time onwards)"
      ]
    },
    {
      "cell_type": "code",
      "metadata": {
        "id": "Wo4YEsqnP15r"
      },
      "source": [
        "!pip install -q pyyaml h5py"
      ],
      "execution_count": null,
      "outputs": []
    },
    {
      "cell_type": "code",
      "metadata": {
        "id": "GMUXdTXRBPR4"
      },
      "source": [
        "## loading weights\n",
        "model.load_weights('embeddings_nn_weights.h5')"
      ],
      "execution_count": null,
      "outputs": []
    },
    {
      "cell_type": "code",
      "metadata": {
        "colab": {
          "base_uri": "https://localhost:8080/"
        },
        "id": "X-PYMV-cSbxL",
        "outputId": "ba97c864-3a16-48e2-977c-dac668b2de95"
      },
      "source": [
        "model.evaluate(x_test,y_test_int,batch_size=10)"
      ],
      "execution_count": null,
      "outputs": [
        {
          "output_type": "stream",
          "text": [
            "10/10 [==============================] - 6s 568ms/step - loss: 0.3657 - accuracy: 0.0000e+00\n"
          ],
          "name": "stdout"
        },
        {
          "output_type": "execute_result",
          "data": {
            "text/plain": [
              "[0.36569663882255554, 0.0]"
            ]
          },
          "metadata": {
            "tags": []
          },
          "execution_count": 21
        }
      ]
    },
    {
      "cell_type": "code",
      "metadata": {
        "id": "x7I27Tfia_1a"
      },
      "source": [
        "with np.load('x_test.npz') as data:\n",
        "  for key in data:\n",
        "    x_test = data[key]\n",
        "  results = model.predict(x_test,batch_size=1)\n",
        "\n",
        "with np.load('x_train.npz') as data:\n",
        "  for key in data:\n",
        "    x_train = data[key]\n",
        "  results = np.append(results, model.predict(x_train,batch_size=1),axis=0)\n",
        "\n",
        "with np.load('x_val.npz') as data:\n",
        "  for key in data:\n",
        "    x_val = data[key]\n",
        "  results = np.append(results, model.predict(x_val,batch_size=1),axis=0)"
      ],
      "execution_count": null,
      "outputs": []
    },
    {
      "cell_type": "code",
      "metadata": {
        "colab": {
          "base_uri": "https://localhost:8080/"
        },
        "id": "_LkGVI-Au0Jj",
        "outputId": "ee262291-071d-46df-e703-f4efc7449cee"
      },
      "source": [
        "results.shape"
      ],
      "execution_count": null,
      "outputs": [
        {
          "output_type": "execute_result",
          "data": {
            "text/plain": [
              "(1054, 128)"
            ]
          },
          "metadata": {
            "tags": []
          },
          "execution_count": 23
        }
      ]
    },
    {
      "cell_type": "code",
      "metadata": {
        "colab": {
          "base_uri": "https://localhost:8080/",
          "height": 17
        },
        "id": "H3UaTB8XvFch",
        "outputId": "3446a174-9cd7-4d5d-9bd7-e7b543d275fd"
      },
      "source": [
        "# Save embeddings for visualization in projector\n",
        "\n",
        "import io\n",
        "\n",
        "np.savetxt(\"vecs.tsv\", results, delimiter='\\t')\n",
        "\n",
        "results_label_int = list()\n",
        "out_m = io.open('meta.tsv', 'w', encoding='utf-8')\n",
        "for img, label in np_data_test:\n",
        "    [out_m.write(label + \"\\n\")]\n",
        "    results_label_int.append(people_mapping[label])\n",
        "for img, label in np_data_train:\n",
        "    [out_m.write(label + \"\\n\")]\n",
        "    results_label_int.append(people_mapping[label])\n",
        "for img, label in np_data_val:\n",
        "    [out_m.write(label + \"\\n\")]\n",
        "    results_label_int.append(people_mapping[label])\n",
        "out_m.close()\n",
        "\n",
        "try:\n",
        "  from google.colab import files\n",
        "  files.download('vecs.tsv')\n",
        "  files.download('meta.tsv')\n",
        "except:\n",
        "  pass"
      ],
      "execution_count": null,
      "outputs": [
        {
          "output_type": "display_data",
          "data": {
            "application/javascript": [
              "\n",
              "    async function download(id, filename, size) {\n",
              "      if (!google.colab.kernel.accessAllowed) {\n",
              "        return;\n",
              "      }\n",
              "      const div = document.createElement('div');\n",
              "      const label = document.createElement('label');\n",
              "      label.textContent = `Downloading \"${filename}\": `;\n",
              "      div.appendChild(label);\n",
              "      const progress = document.createElement('progress');\n",
              "      progress.max = size;\n",
              "      div.appendChild(progress);\n",
              "      document.body.appendChild(div);\n",
              "\n",
              "      const buffers = [];\n",
              "      let downloaded = 0;\n",
              "\n",
              "      const channel = await google.colab.kernel.comms.open(id);\n",
              "      // Send a message to notify the kernel that we're ready.\n",
              "      channel.send({})\n",
              "\n",
              "      for await (const message of channel.messages) {\n",
              "        // Send a message to notify the kernel that we're ready.\n",
              "        channel.send({})\n",
              "        if (message.buffers) {\n",
              "          for (const buffer of message.buffers) {\n",
              "            buffers.push(buffer);\n",
              "            downloaded += buffer.byteLength;\n",
              "            progress.value = downloaded;\n",
              "          }\n",
              "        }\n",
              "      }\n",
              "      const blob = new Blob(buffers, {type: 'application/binary'});\n",
              "      const a = document.createElement('a');\n",
              "      a.href = window.URL.createObjectURL(blob);\n",
              "      a.download = filename;\n",
              "      div.appendChild(a);\n",
              "      a.click();\n",
              "      div.remove();\n",
              "    }\n",
              "  "
            ],
            "text/plain": [
              "<IPython.core.display.Javascript object>"
            ]
          },
          "metadata": {
            "tags": []
          }
        },
        {
          "output_type": "display_data",
          "data": {
            "application/javascript": [
              "download(\"download_6c85dfa4-200e-45b3-8364-1ec5c9996f4c\", \"vecs.tsv\", 3442826)"
            ],
            "text/plain": [
              "<IPython.core.display.Javascript object>"
            ]
          },
          "metadata": {
            "tags": []
          }
        },
        {
          "output_type": "display_data",
          "data": {
            "application/javascript": [
              "\n",
              "    async function download(id, filename, size) {\n",
              "      if (!google.colab.kernel.accessAllowed) {\n",
              "        return;\n",
              "      }\n",
              "      const div = document.createElement('div');\n",
              "      const label = document.createElement('label');\n",
              "      label.textContent = `Downloading \"${filename}\": `;\n",
              "      div.appendChild(label);\n",
              "      const progress = document.createElement('progress');\n",
              "      progress.max = size;\n",
              "      div.appendChild(progress);\n",
              "      document.body.appendChild(div);\n",
              "\n",
              "      const buffers = [];\n",
              "      let downloaded = 0;\n",
              "\n",
              "      const channel = await google.colab.kernel.comms.open(id);\n",
              "      // Send a message to notify the kernel that we're ready.\n",
              "      channel.send({})\n",
              "\n",
              "      for await (const message of channel.messages) {\n",
              "        // Send a message to notify the kernel that we're ready.\n",
              "        channel.send({})\n",
              "        if (message.buffers) {\n",
              "          for (const buffer of message.buffers) {\n",
              "            buffers.push(buffer);\n",
              "            downloaded += buffer.byteLength;\n",
              "            progress.value = downloaded;\n",
              "          }\n",
              "        }\n",
              "      }\n",
              "      const blob = new Blob(buffers, {type: 'application/binary'});\n",
              "      const a = document.createElement('a');\n",
              "      a.href = window.URL.createObjectURL(blob);\n",
              "      a.download = filename;\n",
              "      div.appendChild(a);\n",
              "      a.click();\n",
              "      div.remove();\n",
              "    }\n",
              "  "
            ],
            "text/plain": [
              "<IPython.core.display.Javascript object>"
            ]
          },
          "metadata": {
            "tags": []
          }
        },
        {
          "output_type": "display_data",
          "data": {
            "application/javascript": [
              "download(\"download_f5a4abe4-4a66-413c-9cd5-a909d7d05221\", \"meta.tsv\", 12902)"
            ],
            "text/plain": [
              "<IPython.core.display.Javascript object>"
            ]
          },
          "metadata": {
            "tags": []
          }
        }
      ]
    },
    {
      "cell_type": "markdown",
      "metadata": {
        "id": "Avoc4s1h18gD"
      },
      "source": [
        "## Model for Face Recognition"
      ]
    },
    {
      "cell_type": "code",
      "metadata": {
        "id": "6VattDiJ2Y1H"
      },
      "source": [
        "#model which we can use for the multiclass classification with 5 people\n",
        "model2 = tf.keras.models.Sequential(\n",
        "    [\n",
        "        tf.keras.layers.InputLayer(input_shape=(128,), name ='layer1'),\n",
        "        tf.keras.layers.Dense(64, activation=\"relu\", name=\"layer2\"),\n",
        "        tf.keras.layers.Dense(5, activation='softmax', name=\"layer3\"),\n",
        "    ]\n",
        ")"
      ],
      "execution_count": null,
      "outputs": []
    },
    {
      "cell_type": "code",
      "metadata": {
        "id": "d-UuRhSRKi_7",
        "colab": {
          "base_uri": "https://localhost:8080/"
        },
        "outputId": "8151aae2-4654-4052-ccfc-bf773a817933"
      },
      "source": [
        "model2.summary()"
      ],
      "execution_count": null,
      "outputs": [
        {
          "output_type": "stream",
          "text": [
            "Model: \"sequential\"\n",
            "_________________________________________________________________\n",
            "Layer (type)                 Output Shape              Param #   \n",
            "=================================================================\n",
            "layer2 (Dense)               (None, 64)                8256      \n",
            "_________________________________________________________________\n",
            "layer3 (Dense)               (None, 5)                 325       \n",
            "=================================================================\n",
            "Total params: 8,581\n",
            "Trainable params: 8,581\n",
            "Non-trainable params: 0\n",
            "_________________________________________________________________\n"
          ],
          "name": "stdout"
        }
      ]
    },
    {
      "cell_type": "code",
      "metadata": {
        "id": "bTwmJ73E3R5t"
      },
      "source": [
        "model2.compile(optimizer='adam', \n",
        "              loss=tf.losses.SparseCategoricalCrossentropy(from_logits=False),\n",
        "              metrics=['accuracy'])\n"
      ],
      "execution_count": null,
      "outputs": []
    },
    {
      "cell_type": "markdown",
      "metadata": {
        "id": "ETV2CIK-2YFt"
      },
      "source": [
        "## Training Model2"
      ]
    },
    {
      "cell_type": "code",
      "metadata": {
        "id": "vCfKo2ao3XC6",
        "colab": {
          "base_uri": "https://localhost:8080/"
        },
        "outputId": "1258be9e-f2e7-48e2-93d0-6fc92b56141c"
      },
      "source": [
        "checkpoint_filepath = '/checkpoint'\n",
        "model_checkpoint_callback = tf.keras.callbacks.ModelCheckpoint(\n",
        "    filepath=checkpoint_filepath,\n",
        "    save_weights_only=True,\n",
        "    monitor='val_accuracy',\n",
        "    mode='max',\n",
        "    save_best_only=True)\n",
        "\n",
        "results_label_int = np.array(results_label_int)\n",
        "\n",
        "model2.fit(\n",
        "    x = results[:700],\n",
        "    y = results_label_int[:700],\n",
        "    batch_size = 100,\n",
        "    epochs = 5,\n",
        "    verbose = 1,\n",
        "    validation_data = (results[700:1000], results_label_int[700:1000]),\n",
        "    shuffle = True, \n",
        "    callbacks=[model_checkpoint_callback]\n",
        ")"
      ],
      "execution_count": null,
      "outputs": [
        {
          "output_type": "stream",
          "text": [
            "Epoch 1/5\n",
            "7/7 [==============================] - 1s 31ms/step - loss: 1.6006 - accuracy: 0.2408 - val_loss: 1.4750 - val_accuracy: 0.6167\n",
            "Epoch 2/5\n",
            "7/7 [==============================] - 0s 10ms/step - loss: 1.4370 - accuracy: 0.7008 - val_loss: 1.3381 - val_accuracy: 0.7900\n",
            "Epoch 3/5\n",
            "7/7 [==============================] - 0s 8ms/step - loss: 1.3092 - accuracy: 0.8198 - val_loss: 1.2048 - val_accuracy: 0.8700\n",
            "Epoch 4/5\n",
            "7/7 [==============================] - 0s 9ms/step - loss: 1.1625 - accuracy: 0.8933 - val_loss: 1.0702 - val_accuracy: 0.9000\n",
            "Epoch 5/5\n",
            "7/7 [==============================] - 0s 8ms/step - loss: 1.0292 - accuracy: 0.9012 - val_loss: 0.9370 - val_accuracy: 0.9033\n"
          ],
          "name": "stdout"
        },
        {
          "output_type": "execute_result",
          "data": {
            "text/plain": [
              "<tensorflow.python.keras.callbacks.History at 0x7fc6ca286090>"
            ]
          },
          "metadata": {
            "tags": []
          },
          "execution_count": 36
        }
      ]
    },
    {
      "cell_type": "markdown",
      "metadata": {
        "id": "G_nR-ek52gP9"
      },
      "source": [
        "## Testing "
      ]
    },
    {
      "cell_type": "code",
      "metadata": {
        "id": "aOtDF_a23aSJ",
        "colab": {
          "base_uri": "https://localhost:8080/"
        },
        "outputId": "1a933273-ba48-4d05-f005-4468037e12c8"
      },
      "source": [
        "model2.evaluate(results[1000:],results_label_int[1000:],batch_size=1)"
      ],
      "execution_count": null,
      "outputs": [
        {
          "output_type": "stream",
          "text": [
            "54/54 [==============================] - 0s 2ms/step - loss: 1.0396 - accuracy: 0.8519\n"
          ],
          "name": "stdout"
        },
        {
          "output_type": "execute_result",
          "data": {
            "text/plain": [
              "[1.039592981338501, 0.8518518805503845]"
            ]
          },
          "metadata": {
            "tags": []
          },
          "execution_count": 37
        }
      ]
    },
    {
      "cell_type": "code",
      "metadata": {
        "colab": {
          "base_uri": "https://localhost:8080/"
        },
        "id": "XE9X_qhzmhDc",
        "outputId": "a182563d-4694-4286-f182-dd9e3d3d8249"
      },
      "source": [
        "label_mapping = dict()\n",
        "for key in people_mapping:\n",
        "  label_mapping[people_mapping[key]]=key\n",
        "\n",
        "label_mapping"
      ],
      "execution_count": null,
      "outputs": [
        {
          "output_type": "execute_result",
          "data": {
            "text/plain": [
              "{0: 'Aaron_Eckhart',\n",
              " 1: 'Aaron_Sorkin',\n",
              " 2: 'Abba_Eban',\n",
              " 3: 'Aaron_Guiel',\n",
              " 4: 'Aaron_Tippin'}"
            ]
          },
          "metadata": {
            "tags": []
          },
          "execution_count": 62
        }
      ]
    },
    {
      "cell_type": "code",
      "metadata": {
        "colab": {
          "base_uri": "https://localhost:8080/",
          "height": 272
        },
        "id": "nn-5I00DZzyw",
        "outputId": "a97060e8-9b35-4053-e05c-61657b0e0fe4"
      },
      "source": [
        "prediction = model2.predict(x = results[1000:1001],batch_size=1)\n",
        "predicted_label = int(np.argmax(prediction))\n",
        "true_label = results_label_int[1000]\n",
        "print('predicted_label : ', label_mapping[predicted_label])\n",
        "print('true_label      : ', label_mapping[true_label])\n",
        "\n",
        "from google.colab.patches import cv2_imshow\n",
        "cv2_imshow(x_val[152])\n"
      ],
      "execution_count": null,
      "outputs": [
        {
          "output_type": "stream",
          "text": [
            "predicted_label :  Aaron_Guiel\n",
            "true_label      :  Aaron_Guiel\n"
          ],
          "name": "stdout"
        },
        {
          "output_type": "display_data",
          "data": {
            "image/png": "[encoded data removed]",
            "text/plain": [
              "<PIL.Image.Image image mode=RGB size=220x220 at 0x7FC6C6E04ED0>"
            ]
          },
          "metadata": {
            "tags": []
          }
        }
      ]
    },
    {
      "cell_type": "code",
      "metadata": {
        "id": "FJ0nquaElqaF"
      },
      "source": [
        ""
      ],
      "execution_count": null,
      "outputs": []
    }
  ]
}